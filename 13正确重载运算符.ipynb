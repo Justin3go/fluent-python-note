{
 "cells": [
  {
   "cell_type": "markdown",
   "metadata": {},
   "source": [
    "# 正确重载运算符"
   ]
  },
  {
   "cell_type": "markdown",
   "metadata": {},
   "source": [
    "> 有些事情让我不安，比如运算符重载。我决定不支持运算符重载，这完全是个人选择，因为我见过太多C++程序员滥用它。"
   ]
  },
  {
   "cell_type": "markdown",
   "metadata": {},
   "source": [
    "## 运算符重载基础"
   ]
  },
  {
   "cell_type": "markdown",
   "metadata": {},
   "source": [
    "在某些圈子中，运算符重载的名声并不好。这个语言特性可能（已经）被滥用，让程序员困惑，导致缺陷和意料之外的性能瓶颈。但是，如果使用得当，API会变得好用，代码会变得易于阅读。Python施加了一些限制，做好了灵活性、可用性和安全性方面的平衡：\n",
    "\n",
    "- 不能重载内置类型的运算符\n",
    "- 不能创建新的运算符，只能重载现有的\n",
    "- 某些运算符不能重载，比如`is`、`and`、`or`和`not`（不过，`&`、`|`和`~`可以重载）"
   ]
  },
  {
   "cell_type": "markdown",
   "metadata": {},
   "source": [
    "略略略，暂时不管,,,"
   ]
  }
 ],
 "metadata": {
  "kernelspec": {
   "display_name": "base",
   "language": "python",
   "name": "python3"
  },
  "language_info": {
   "codemirror_mode": {
    "name": "ipython",
    "version": 3
   },
   "file_extension": ".py",
   "mimetype": "text/x-python",
   "name": "python",
   "nbconvert_exporter": "python",
   "pygments_lexer": "ipython3",
   "version": "3.10.9"
  }
 },
 "nbformat": 4,
 "nbformat_minor": 2
}
