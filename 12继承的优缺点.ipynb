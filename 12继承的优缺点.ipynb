{
 "cells": [
  {
   "cell_type": "markdown",
   "metadata": {},
   "source": [
    "# 继承的优缺点\n",
    "\n",
    "> (我们）推出继承的初衷是让新手顺利使用只有专家才能设计出来的框架。"
   ]
  },
  {
   "cell_type": "markdown",
   "metadata": {},
   "source": [
    "## 子类化内置类型很麻烦"
   ]
  },
  {
   "cell_type": "code",
   "execution_count": 1,
   "metadata": {},
   "outputs": [],
   "source": [
    "class DoppelDict(dict):\n",
    "    def __setitem__(self, key, value):\n",
    "        super().__setitem__(key, [value]*2)\n",
    "        # 这里如果是调用的子类的方法，就会存入两个相同的值"
   ]
  },
  {
   "cell_type": "code",
   "execution_count": 2,
   "metadata": {},
   "outputs": [
    {
     "data": {
      "text/plain": [
       "{'one': 1}"
      ]
     },
     "execution_count": 2,
     "metadata": {},
     "output_type": "execute_result"
    }
   ],
   "source": [
    "dd = DoppelDict(one=1)\n",
    "dd"
   ]
  },
  {
   "cell_type": "code",
   "execution_count": 4,
   "metadata": {},
   "outputs": [
    {
     "data": {
      "text/plain": [
       "{'one': 1, 'two': [2, 2]}"
      ]
     },
     "execution_count": 4,
     "metadata": {},
     "output_type": "execute_result"
    }
   ],
   "source": [
    "dd['two'] = 2\n",
    "dd"
   ]
  },
  {
   "cell_type": "code",
   "execution_count": 5,
   "metadata": {},
   "outputs": [
    {
     "data": {
      "text/plain": [
       "{'one': 1, 'two': [2, 2], 'three': 3}"
      ]
     },
     "execution_count": 5,
     "metadata": {},
     "output_type": "execute_result"
    }
   ],
   "source": [
    "dd.update(three=3)\n",
    "dd"
   ]
  },
  {
   "cell_type": "markdown",
   "metadata": {},
   "source": [
    "在这里`__init__`和`.update`方法都忽略了我们设置`__setitem__`方法，原生类型的这种行为违背了面向对象编程的一个基本原则：始终应该从实例（self）所属的类开始搜索方法，即使在超类实现的类中调用也是如此。在这种糟糕的局面中，`__missing__`方法（参见3.4.2节）却能按预期方式工作，不过这只是特例。"
   ]
  },
  {
   "cell_type": "markdown",
   "metadata": {},
   "source": [
    "**重点**：直接子类化内置类型（如dict、list或str）容易出错，因为内置类型的方法通常会忽略用户覆盖的方法。不要子类化内置类型，用户自己定义的类应该继承collections模块中的类，例如UserDict、UserList和UserString，这些类做了特殊设计，因此易于扩展。"
   ]
  },
  {
   "cell_type": "code",
   "execution_count": null,
   "metadata": {},
   "outputs": [],
   "source": [
    "import collections\n",
    "\n",
    "class DoppelDict2(collections.UserDict):\n",
    "    def __setitem__(self, key, value):\n",
    "        super().__setitem__(key, [value]*2)\n",
    "# 这种就能正常工作了"
   ]
  },
  {
   "cell_type": "markdown",
   "metadata": {},
   "source": [
    "## 多重继承和方法解析顺序\n",
    "\n",
    "任何实现多重继承的语言都要处理潜在的命名冲突，这种冲突由不相关的祖先类实现同名方法引起。\n",
    "\n",
    "![](https://oss.justin3go.com/blogs/20240205105158.png)"
   ]
  },
  {
   "cell_type": "code",
   "execution_count": 10,
   "metadata": {},
   "outputs": [],
   "source": [
    "class A:\n",
    "    def ping(self):\n",
    "        print('ping:', self)\n",
    "class B(A):\n",
    "    def pong(self):\n",
    "        print('pong:', self)\n",
    "class C(A):\n",
    "    def pong(self):\n",
    "        print('PONG:', self)\n",
    "class D(B, C):\n",
    "    def ping(self):\n",
    "        super().ping()\n",
    "        print('post-ping:', self)\n",
    "    def pingpong(self):\n",
    "        self.ping()\n",
    "        super().ping()\n",
    "        self.pong()\n",
    "        super().pong()\n",
    "        C.pong(self)"
   ]
  },
  {
   "cell_type": "markdown",
   "metadata": {},
   "source": [
    "在D的实例上调用`d.pong（　）`方法的话，运行的是哪个pong方法呢？在C++中，程序员必须使用类名限定方法调用来避免这种歧义。Python也能这么做"
   ]
  },
  {
   "cell_type": "code",
   "execution_count": 11,
   "metadata": {},
   "outputs": [
    {
     "name": "stdout",
     "output_type": "stream",
     "text": [
      "pong: <__main__.D object at 0x000002AE19A3A5F0>\n"
     ]
    }
   ],
   "source": [
    "d = D()\n",
    "d.pong() # 直接调用是运行的B类中的方法"
   ]
  },
  {
   "cell_type": "code",
   "execution_count": 12,
   "metadata": {},
   "outputs": [
    {
     "name": "stdout",
     "output_type": "stream",
     "text": [
      "PONG: <__main__.D object at 0x000002AE19A3A5F0>\n"
     ]
    }
   ],
   "source": [
    "C.pong(d) # 超类调用是运行的C类中的方法（此时需要把实例作为显式参数传入）"
   ]
  },
  {
   "cell_type": "markdown",
   "metadata": {},
   "source": [
    "Python能区分`d.pong（　）`调用的是哪个方法，是因为Python会按照特定的顺序遍历继承图。这个顺序叫方法解析顺序（Method Resolution Order，MRO）\n",
    "\n",
    "类都有一个名为`__mro__`的属性，它的值是一个元组，按照方法解析顺序列出各个超类，从当前类一直向上，直到object类。D类的`__mro__`属性如下"
   ]
  },
  {
   "cell_type": "code",
   "execution_count": 13,
   "metadata": {},
   "outputs": [
    {
     "data": {
      "text/plain": [
       "(__main__.D, __main__.B, __main__.C, __main__.A, object)"
      ]
     },
     "execution_count": 13,
     "metadata": {},
     "output_type": "execute_result"
    }
   ],
   "source": [
    "D.__mro__"
   ]
  },
  {
   "cell_type": "markdown",
   "metadata": {},
   "source": [
    "若想把方法调用委托给超类，推荐的方式是使用内置的super（　），它会遵守方法解析顺序;\n",
    "\n",
    "然而，有时可能需要绕过方法解析顺序，直接调用某个超类的方法——这样做有时更方便。例如，`D.ping`方法可以这样写："
   ]
  },
  {
   "cell_type": "code",
   "execution_count": null,
   "metadata": {},
   "outputs": [],
   "source": [
    "def ping(self):\n",
    "    A.ping(self)  #而不是super（　）.ping（　）\n",
    "    print('post-ping:', self)"
   ]
  },
  {
   "cell_type": "markdown",
   "metadata": {},
   "source": [
    "注意，直接在类上调用实例方法时，必须显式传入self参数，因为这样访问的是未绑定方法（unbound method）。"
   ]
  },
  {
   "cell_type": "markdown",
   "metadata": {},
   "source": [
    "> 方法解析顺序使用C3算法计算。Michele Simionato的论文“The Python 2.3Method Resolution Order”对Python方法解析顺序使用的C3算法做了权威论述。"
   ]
  },
  {
   "cell_type": "markdown",
   "metadata": {},
   "source": [
    "## 处理多重继承\n",
    "\n",
    "使用多重继承容易得出令人费解和脆弱的设计。我们还没有完整的理论，下面是避免把类图搅乱的一些建议：\n",
    "\n",
    "- 把接口继承和实现继承区分开\n",
    "- 使用多重继承时，一定要明确一开始为什么创建子类。主要原因可能有：\n",
    "    - 继承接口，创建子类型，实现“是什么”关系\n",
    "    - 继承实现，通过重用避免代码重复\n",
    "- 使用抽象基类显式表示接口\n",
    "- 通过混入重用代码：如果一个类的作用是为多个不相关的子类提供方法实现，从而实现重用，但不体现“是什么”关系，应该把那个类明确地定义为混入类（mixin class）。\n",
    "- 在名称中明确指明混入\n",
    "- 抽象基类可以作为混入，反过来则不成立\n",
    "- 不要子类化多个具体类：`class c(a, b, d)`，其中，如果a是具体类，那么b、d就不能是具体类，而应该是抽象基类或混入。\n",
    "- 为用户提供聚合类\n",
    "- 优先使用对象组合，而不是类继承"
   ]
  },
  {
   "cell_type": "code",
   "execution_count": null,
   "metadata": {},
   "outputs": [],
   "source": []
  }
 ],
 "metadata": {
  "kernelspec": {
   "display_name": "base",
   "language": "python",
   "name": "python3"
  },
  "language_info": {
   "codemirror_mode": {
    "name": "ipython",
    "version": 3
   },
   "file_extension": ".py",
   "mimetype": "text/x-python",
   "name": "python",
   "nbconvert_exporter": "python",
   "pygments_lexer": "ipython3",
   "version": "3.10.9"
  }
 },
 "nbformat": 4,
 "nbformat_minor": 2
}
