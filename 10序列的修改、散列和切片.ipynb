{
 "cells": [
  {
   "cell_type": "markdown",
   "metadata": {},
   "source": [
    "# 序列的修改、散列和切片\n",
    "\n",
    "> 不要检查它是不是鸭子：检查它的叫声像不像鸭子、它的走路姿势像不像鸭子，等等。具体检查什么取决于你想使用语言的哪些行为m"
   ]
  },
  {
   "cell_type": "code",
   "execution_count": 1,
   "metadata": {},
   "outputs": [],
   "source": [
    "from array import array\n",
    "import reprlib\n",
    "import math\n",
    "\n",
    "\n",
    "class Vector:\n",
    "    typecode = 'd'\n",
    "\n",
    "    def __init__(self, components):\n",
    "        # “受保护的”实例属性，把Vector的分量保存在一个数组中，之前2D的只有x和y，现在是任意维度的\n",
    "        self._components = array(self.typecode, components)\n",
    "\n",
    "    def __iter__(self):\n",
    "        return iter(self._components)\n",
    "\n",
    "    def __repr__(self):\n",
    "        components = reprlib.repr(self._components)\n",
    "        components = components[components.find('['):-1]\n",
    "        return 'Vector({})'.format(components)\n",
    "\n",
    "    def __str__(self):\n",
    "        return str(tuple(self))\n",
    "\n",
    "    def __bytes__(self):\n",
    "        return (bytes([ord(self.typecode)]) +\n",
    "                bytes(self._components))\n",
    "\n",
    "    def __eq__(self, other):\n",
    "        return tuple(self) == tuple(other)\n",
    "\n",
    "    def __abs__(self):\n",
    "        return math.sqrt(sum(x * x for x in self))\n",
    "\n",
    "    def __bool__(self):\n",
    "        return bool(abs(self))\n",
    "\n",
    "    @classmethod\n",
    "    def frombytes(cls, octets):\n",
    "        typecode = chr(octets[0])\n",
    "        memv = memoryview(octets[1:]).cast(typecode)\n",
    "        return cls(memv)"
   ]
  },
  {
   "cell_type": "code",
   "execution_count": 2,
   "metadata": {},
   "outputs": [
    {
     "data": {
      "text/plain": [
       "Vector([3.1, 4.2])"
      ]
     },
     "execution_count": 2,
     "metadata": {},
     "output_type": "execute_result"
    }
   ],
   "source": [
    "Vector([3.1, 4.2])"
   ]
  },
  {
   "cell_type": "code",
   "execution_count": 3,
   "metadata": {},
   "outputs": [
    {
     "data": {
      "text/plain": [
       "Vector([3.0, 4.0, 5.0])"
      ]
     },
     "execution_count": 3,
     "metadata": {},
     "output_type": "execute_result"
    }
   ],
   "source": [
    "Vector((3, 4, 5))"
   ]
  },
  {
   "cell_type": "code",
   "execution_count": 4,
   "metadata": {},
   "outputs": [
    {
     "data": {
      "text/plain": [
       "Vector([0.0, 1.0, 2.0, 3.0, 4.0, ...])"
      ]
     },
     "execution_count": 4,
     "metadata": {},
     "output_type": "execute_result"
    }
   ],
   "source": [
    "Vector(range(10))"
   ]
  },
  {
   "cell_type": "markdown",
   "metadata": {},
   "source": [
    "调用`repr()`函数的目的是调试，因此绝对不能抛出异常。如果`__repr__`方法的实现有问题，那么必须处理，尽量输出有用的内容，让用户能够识别目标对象。"
   ]
  },
  {
   "cell_type": "markdown",
   "metadata": {},
   "source": [
    "顺便说一下，我们本可以让Vector继承Vector2d，但是我没这么做，原因有二：\n",
    "\n",
    "- 其一，两个构造方法不兼容，因此不建议继承。这一点可以通过适当处理`__init__`方法的参数解决，\n",
    "- 不过第二个原因更重要：我想把Vector类当作单独的示例，以此实现序列协议。接下来，我们先讨论协议这个术语，然后实现序列协议。"
   ]
  },
  {
   "cell_type": "markdown",
   "metadata": {},
   "source": [
    "## 协议和鸭子类型\n",
    "\n",
    "在面向对象编程中，协议是非正式的接口，只在文档中定义，在代码中不定义。例如，Python的序列协议只需要`__len__`和`__getitem__`两个方法。任何类（如Spam），只要使用标准的签名和语义实现了这两个方法，就能用在任何期待序列的地方。Spam是不是哪个类的子类无关紧要，只要提供了所需的方法即可。"
   ]
  },
  {
   "cell_type": "code",
   "execution_count": 5,
   "metadata": {},
   "outputs": [],
   "source": [
    "import collections\n",
    "Card = collections.namedtuple('Card', ['rank', 'suit'])\n",
    "\n",
    "\n",
    "class FrenchDeck:\n",
    "    ranks = [str(n) for n in range(2, 11)]+list('JQKA')\n",
    "    suits = 'spades diamonds clubs hearts'.split()\n",
    "\n",
    "    def __init__(self):\n",
    "        self._cards = [Card(rank, suit) for suit in self.suits\n",
    "                       for rank in self.ranks]\n",
    "\n",
    "    def __len__(self):\n",
    "        return len(self._cards)\n",
    "\n",
    "    def __getitem__(self, position):\n",
    "        return self._cards[position]"
   ]
  },
  {
   "cell_type": "markdown",
   "metadata": {},
   "source": [
    "FrenchDeck类能充分利用Python的很多功能，因为它实现了序列协议，不过代码中并没有声明这一点。任何有经验的Python程序员只要看一眼就知道它是序列，即便它是object的子类也无妨。我们说它是序列，因为它的行为像序列，这才是重点。"
   ]
  },
  {
   "cell_type": "markdown",
   "metadata": {},
   "source": [
    "协议是非正式的，没有强制力，因此如果你知道类的具体使用场景，通常只需要实现一个协议的部分。例如，为了支持迭代，只需实现`__getitem__`方法，没必要提供`__len__`方法。"
   ]
  },
  {
   "cell_type": "markdown",
   "metadata": {},
   "source": [
    "## Vector类第2版：可切片的序列\n",
    "\n"
   ]
  },
  {
   "cell_type": "code",
   "execution_count": 6,
   "metadata": {},
   "outputs": [],
   "source": [
    "class Vector:\n",
    "    # 省略了很多行\n",
    "    # ...\n",
    "    def __len__(self):\n",
    "        return len(self._components)\n",
    "\n",
    "    def __getitem__(self, index):\n",
    "        return self._components[index]"
   ]
  },
  {
   "cell_type": "markdown",
   "metadata": {},
   "source": [
    "上述添加了`__len__`和`__getitem__`方法后，就可以支持切片了"
   ]
  },
  {
   "cell_type": "markdown",
   "metadata": {},
   "source": [
    "**切片原理**"
   ]
  },
  {
   "cell_type": "code",
   "execution_count": 7,
   "metadata": {},
   "outputs": [],
   "source": [
    "class MySeq:\n",
    "    def __getitem__(self, index):\n",
    "        return index # __getitem__直接返回传给它的值。"
   ]
  },
  {
   "cell_type": "code",
   "execution_count": 8,
   "metadata": {},
   "outputs": [
    {
     "data": {
      "text/plain": [
       "1"
      ]
     },
     "execution_count": 8,
     "metadata": {},
     "output_type": "execute_result"
    }
   ],
   "source": [
    "s = MySeq()\n",
    "s[1]"
   ]
  },
  {
   "cell_type": "code",
   "execution_count": 9,
   "metadata": {},
   "outputs": [
    {
     "data": {
      "text/plain": [
       "slice(1, 4, None)"
      ]
     },
     "execution_count": 9,
     "metadata": {},
     "output_type": "execute_result"
    }
   ],
   "source": [
    "s[1:4]"
   ]
  },
  {
   "cell_type": "code",
   "execution_count": 10,
   "metadata": {},
   "outputs": [
    {
     "data": {
      "text/plain": [
       "slice(1, 4, 2)"
      ]
     },
     "execution_count": 10,
     "metadata": {},
     "output_type": "execute_result"
    }
   ],
   "source": [
    "s[1:4:2]"
   ]
  },
  {
   "cell_type": "code",
   "execution_count": 11,
   "metadata": {},
   "outputs": [
    {
     "data": {
      "text/plain": [
       "(slice(1, 4, 2), 9)"
      ]
     },
     "execution_count": 11,
     "metadata": {},
     "output_type": "execute_result"
    }
   ],
   "source": [
    "s[1:4:2, 9] # 如果[]中有逗号，那么__getitem__收到的是元组。"
   ]
  },
  {
   "cell_type": "code",
   "execution_count": 12,
   "metadata": {},
   "outputs": [
    {
     "data": {
      "text/plain": [
       "(slice(1, 4, 2), slice(7, 9, None))"
      ]
     },
     "execution_count": 12,
     "metadata": {},
     "output_type": "execute_result"
    }
   ],
   "source": [
    "s[1:4:2, 7:9] # 元组中甚至可以有多个切片对象"
   ]
  },
  {
   "cell_type": "markdown",
   "metadata": {},
   "source": [
    "查看slice类的属性"
   ]
  },
  {
   "cell_type": "code",
   "execution_count": 14,
   "metadata": {},
   "outputs": [
    {
     "data": {
      "text/plain": [
       "slice"
      ]
     },
     "execution_count": 14,
     "metadata": {},
     "output_type": "execute_result"
    }
   ],
   "source": [
    "slice"
   ]
  },
  {
   "cell_type": "code",
   "execution_count": 15,
   "metadata": {},
   "outputs": [
    {
     "data": {
      "text/plain": [
       "['__class__',\n",
       " '__delattr__',\n",
       " '__dir__',\n",
       " '__doc__',\n",
       " '__eq__',\n",
       " '__format__',\n",
       " '__ge__',\n",
       " '__getattribute__',\n",
       " '__gt__',\n",
       " '__hash__',\n",
       " '__init__',\n",
       " '__init_subclass__',\n",
       " '__le__',\n",
       " '__lt__',\n",
       " '__ne__',\n",
       " '__new__',\n",
       " '__reduce__',\n",
       " '__reduce_ex__',\n",
       " '__repr__',\n",
       " '__setattr__',\n",
       " '__sizeof__',\n",
       " '__str__',\n",
       " '__subclasshook__',\n",
       " 'indices',\n",
       " 'start',\n",
       " 'step',\n",
       " 'stop']"
      ]
     },
     "execution_count": 15,
     "metadata": {},
     "output_type": "execute_result"
    }
   ],
   "source": [
    "dir(slice)"
   ]
  },
  {
   "cell_type": "code",
   "execution_count": 16,
   "metadata": {},
   "outputs": [
    {
     "name": "stdout",
     "output_type": "stream",
     "text": [
      "Help on method_descriptor:\n",
      "\n",
      "indices(...)\n",
      "    S.indices(len) -> (start, stop, stride)\n",
      "    \n",
      "    Assuming a sequence of length len, calculate the start and stop\n",
      "    indices, and the stride length of the extended slice described by\n",
      "    S. Out of bounds indices are clipped in a manner consistent with the\n",
      "    handling of normal slices.\n",
      "\n"
     ]
    }
   ],
   "source": [
    "help(slice.indices) # 给定一个长度，处理边界情况"
   ]
  },
  {
   "cell_type": "markdown",
   "metadata": {},
   "source": [
    "给定长度为len的序列，计算S表示的扩展切片的起始（start）和结尾（stop）索引，以及步幅（stride）。超出边界的索引会被截掉，这与常规切片的处理方式一样。\n",
    "\n",
    "换句话说，indices方法开放了内置序列实现的棘手逻辑，用于优雅地处理缺失索引和负数索引，以及长度超过目标序列的切片。这个方法会“整顿”元组，把start、stop和stride都变成非负数，而且都落在指定长度序列的边界内。"
   ]
  },
  {
   "cell_type": "code",
   "execution_count": 17,
   "metadata": {},
   "outputs": [
    {
     "data": {
      "text/plain": [
       "(0, 5, 2)"
      ]
     },
     "execution_count": 17,
     "metadata": {},
     "output_type": "execute_result"
    }
   ],
   "source": [
    "slice(None, 10, 2).indices(5) # (0, 5, 2)"
   ]
  },
  {
   "cell_type": "code",
   "execution_count": 18,
   "metadata": {},
   "outputs": [
    {
     "data": {
      "text/plain": [
       "(2, 5, 1)"
      ]
     },
     "execution_count": 18,
     "metadata": {},
     "output_type": "execute_result"
    }
   ],
   "source": [
    "slice(-3, None, None).indices(5) # (2, 5, 1)"
   ]
  },
  {
   "cell_type": "markdown",
   "metadata": {},
   "source": [
    "**能处理切片的`__getitem__`方法**"
   ]
  },
  {
   "cell_type": "code",
   "execution_count": 19,
   "metadata": {},
   "outputs": [],
   "source": [
    "import numbers\n",
    "\n",
    "\n",
    "def __len__(self):\n",
    "    return len(self._components)\n",
    "\n",
    "\n",
    "def __getitem__(self, index):\n",
    "    cls = type(self)\n",
    "    if isinstance(index, slice):\n",
    "        return cls(self._components[index])\n",
    "    elif isinstance(index, numbers.Integral):\n",
    "        return self._components[index]\n",
    "    else:\n",
    "        msg = '{cls.__name__} indices must be integers'\n",
    "        raise TypeError(msg.format(cls=cls))"
   ]
  },
  {
   "cell_type": "markdown",
   "metadata": {},
   "source": [
    "![](https://oss.justin3go.com/blogs/20240204210623.png)"
   ]
  },
  {
   "cell_type": "markdown",
   "metadata": {},
   "source": [
    "## Vector类第3版：动态存取属性\n",
    "\n",
    "通过单个字母访问前几个分量的话会比较方便。比如，用x、y和z代替`v[0]`、`v[1]`和`v[2]`。"
   ]
  },
  {
   "cell_type": "code",
   "execution_count": null,
   "metadata": {},
   "outputs": [],
   "source": [
    "shortcut_names = 'xyzt'\n",
    "\n",
    "\n",
    "def __getattr__(self, name):\n",
    "    cls = type(self)\n",
    "    if len(name) == 1:  # 如果属性名只有一个字母，可能是shortcut_names中的一个。\n",
    "        pos = cls.shortcut_names.find(name)\n",
    "        if 0 <= pos < len(self._components):\n",
    "            return self._components[pos]\n",
    "    msg = '{.__name__!r} object has no attribute {!r}'\n",
    "    raise AttributeError(msg.format(cls, name))\n",
    "\n",
    "\n",
    "def __setattr__(self, name, value):\n",
    "    cls = type(self)\n",
    "    if len(name) == 1:\n",
    "        if name in cls.shortcut_names:\n",
    "            error = 'readonly attribute {attr_name!r}'\n",
    "        elif name.islower():\n",
    "            error = \"can't set attributes 'a' to 'z' in {cls_name!r}\"\n",
    "        else:\n",
    "            error = ''\n",
    "        if error:\n",
    "            msg = error.format(cls_name=cls.__name__, attr_name=name)\n",
    "            raise AttributeError(msg)\n",
    "    super().__setattr__(name, value)"
   ]
  },
  {
   "cell_type": "markdown",
   "metadata": {},
   "source": [
    "## Vector第4版：散列和快速等值测试"
   ]
  },
  {
   "cell_type": "code",
   "execution_count": null,
   "metadata": {},
   "outputs": [],
   "source": [
    "from array import array\n",
    "import reprlib\n",
    "import math\n",
    "import functools  # ➊\n",
    "import operator  # ➋\n",
    "\n",
    "\n",
    "class Vector:\n",
    "    typecode = 'd'\n",
    "    # 排版需要，省略了很多行...\n",
    "\n",
    "    def __eq__(self, other):  # ➌\n",
    "        return tuple(self) == tuple(other)\n",
    "\n",
    "    def __hash__(self):\n",
    "        hashes = (hash(x) for x in self._components)  # ➍\n",
    "        return functools.reduce(operator.xor, hashes, 0)  # ➎\n",
    "    # 省略了很多行..."
   ]
  },
  {
   "cell_type": "markdown",
   "metadata": {},
   "source": [
    "> 在Python 2中使用map函数效率低些，因为map函数要使用结果构建一个列表。但是在Python 3中，map函数是惰性的，它会创建一个生成器，按需产出结果，因此能节省内存"
   ]
  },
  {
   "cell_type": "code",
   "execution_count": null,
   "metadata": {},
   "outputs": [],
   "source": [
    "# 效率更高的__eq__方法\n",
    "def __eq__(self, other):\n",
    "    if len(self) != len(other):  # ➊\n",
    "        return False\n",
    "    for a, b in zip(self, other):  # ➋\n",
    "        if a != b:  # ➌\n",
    "            return False\n",
    "    return True  # ➍"
   ]
  },
  {
   "cell_type": "code",
   "execution_count": null,
   "metadata": {},
   "outputs": [],
   "source": [
    "# 单行写法\n",
    "def __eq__(self, other):\n",
    "    return len(self) == len(other) and all(a == b for a, b in zip(self, other))"
   ]
  },
  {
   "cell_type": "markdown",
   "metadata": {},
   "source": [
    "## Vector类第5版：格式化"
   ]
  },
  {
   "cell_type": "code",
   "execution_count": null,
   "metadata": {},
   "outputs": [],
   "source": [
    "# 所有的完整代码\n",
    "\"\"\"\n",
    "A multidimensional ``Vector`` class, take 5\n",
    "A ``Vector`` is built from an iterable of numbers::\n",
    "    >>> Vector([3.1, 4.2])\n",
    "    Vector([3.1, 4.2])\n",
    "    >>> Vector((3, 4, 5))\n",
    "    Vector([3.0, 4.0, 5.0])\n",
    "    >>> Vector(range(10))\n",
    "    Vector([0.0, 1.0, 2.0, 3.0, 4.0, ...])\n",
    "Tests with two dimensions (same results as ``vector2d_v1.py``)::\n",
    "    >>> v1 = Vector([3, 4])\n",
    "    >>> x, y = v1\n",
    "    >>> x, y\n",
    "    (3.0, 4.0)\n",
    "    >>> v1\n",
    "    Vector([3.0, 4.0])\n",
    "    >>> v1_clone = eval(repr(v1))\n",
    "    >>> v1 == v1_clone\n",
    "    True\n",
    "    >>> print(v1)\n",
    "    (3.0, 4.0)\n",
    "    >>> octets = bytes(v1)\n",
    "    >>> octets\n",
    "    b'd\\\\x00\\\\x00\\\\x00\\\\x00\\\\x00\\\\x00\\\\x08@\\\\x00\\\\x00\\\\x00\\\\x00\\\\x00\\\\x00\\\\x10@'\n",
    "    >>> abs(v1)\n",
    "    5.0\n",
    "    >>> bool(v1), bool(Vector([0, 0]))\n",
    "    (True, False)\n",
    "Test of ``.frombytes()`` class method:\n",
    "    >>> v1_clone = Vector.frombytes(bytes(v1))\n",
    "    >>> v1_clone\n",
    "    Vector([3.0, 4.0])\n",
    "    >>> v1 == v1_clone\n",
    "    True\n",
    "Tests with three dimensions::\n",
    "    >>> v1 = Vector([3, 4, 5])\n",
    "    >>> x, y, z = v1\n",
    "    >>> x, y, z\n",
    "    (3.0, 4.0, 5.0)\n",
    "    >>> v1\n",
    "    Vector([3.0, 4.0, 5.0])\n",
    "    >>> v1_clone = eval(repr(v1))\n",
    "    >>> v1 == v1_clone\n",
    "    True\n",
    "    >>> print(v1)\n",
    "    (3.0, 4.0, 5.0)\n",
    "    >>> abs(v1)  # doctest:+ELLIPSIS\n",
    "    7.071067811...\n",
    "    >>> bool(v1), bool(Vector([0, 0, 0]))\n",
    "    (True, False)\n",
    "Tests with many dimensions::\n",
    "    >>> v7 = Vector(range(7))\n",
    "    >>> v7\n",
    "    Vector([0.0, 1.0, 2.0, 3.0, 4.0, ...])\n",
    "    >>> abs(v7)  # doctest:+ELLIPSIS\n",
    "    9.53939201...\n",
    "Test of ``.__bytes__`` and ``.frombytes()`` methods::\n",
    "    >>> v1 = Vector([3, 4, 5])\n",
    "    >>> v1_clone = Vector.frombytes(bytes(v1))\n",
    "    >>> v1_clone\n",
    "    Vector([3.0, 4.0, 5.0])\n",
    "    >>> v1 == v1_clone\n",
    "    True\n",
    "Tests of sequence behavior::\n",
    "    >>> v1 = Vector([3, 4, 5])\n",
    "    >>> len(v1)\n",
    "    3\n",
    "    >>> v1[0], v1[len(v1)-1], v1[-1]\n",
    "    (3.0, 5.0, 5.0)\n",
    "Test of slicing::\n",
    "    >>> v7 = Vector(range(7))\n",
    "    >>> v7[-1]\n",
    "    6.0\n",
    "    >>> v7[1:4]\n",
    "    Vector([1.0, 2.0, 3.0])\n",
    "    >>> v7[-1:]\n",
    "    Vector([6.0])\n",
    "    >>> v7[1,2]\n",
    "    Traceback (most recent call last):\n",
    "      ...\n",
    "    TypeError: Vector indices must be integers\n",
    "Tests of dynamic attribute access::\n",
    "    >>> v7 = Vector(range(10))\n",
    "    >>> v7.x\n",
    "    0.0\n",
    "    >>> v7.y, v7.z, v7.t\n",
    "    (1.0, 2.0, 3.0)\n",
    "Dynamic attribute lookup failures::\n",
    "    >>> v7.k\n",
    "    Traceback (most recent call last):\n",
    "      ...\n",
    "    AttributeError: 'Vector' object has no attribute 'k'\n",
    "    >>> v3 = Vector(range(3))\n",
    "    >>> v3.t\n",
    "    Traceback (most recent call last):\n",
    "      ...\n",
    "    AttributeError: 'Vector' object has no attribute 't'\n",
    "    >>> v3.spam\n",
    "    Traceback (most recent call last):\n",
    "      ...\n",
    "    AttributeError: 'Vector' object has no attribute 'spam'\n",
    "Tests of hashing::\n",
    "    >>> v1 = Vector([3, 4])\n",
    "    >>> v2 = Vector([3.1, 4.2])\n",
    "    >>> v3 = Vector([3, 4, 5])\n",
    "    >>> v6 = Vector(range(6))\n",
    "    >>> hash(v1), hash(v3), hash(v6)\n",
    "    (7, 2, 1)\n",
    "Most hash values of non-integers vary from a 32-bit to 64-bit CPython build::\n",
    "    >>> import sys\n",
    "    >>> hash(v2) == (384307168202284039 if sys.maxsize > 2**32 else 357915986)\n",
    "    True\n",
    "Tests of ``format()`` with Cartesian coordinates in 2D::\n",
    "    >>> v1 = Vector([3, 4])\n",
    "    >>> format(v1)\n",
    "    '(3.0, 4.0)'\n",
    "    >>> format(v1, '.2f')\n",
    "    '(3.00, 4.00)'\n",
    "    >>> format(v1, '.3e')\n",
    "    '(3.000e+00, 4.000e+00)'\n",
    "Tests of ``format()`` with Cartesian coordinates in 3D and 7D::\n",
    "    >>> v3 = Vector([3, 4, 5])\n",
    "    >>> format(v3)\n",
    "    '(3.0, 4.0, 5.0)'\n",
    "    >>> format(Vector(range(7)))\n",
    "    '(0.0, 1.0, 2.0, 3.0, 4.0, 5.0, 6.0)'\n",
    "Tests of ``format()`` with spherical coordinates in 2D, 3D and 4D::\n",
    "    >>> format(Vector([1, 1]), 'h')  # doctest:+ELLIPSIS\n",
    "    '<1.414213..., 0.785398...>'\n",
    "    >>> format(Vector([1, 1]), '.3eh')\n",
    "    '<1.414e+00, 7.854e-01>'\n",
    "    >>> format(Vector([1, 1]), '0.5fh')\n",
    "    '<1.41421, 0.78540>'\n",
    "    >>> format(Vector([1, 1, 1]), 'h')  # doctest:+ELLIPSIS\n",
    "    '<1.73205..., 0.95531..., 0.78539...>'\n",
    "    >>> format(Vector([2, 2, 2]), '.3eh')\n",
    "    '<3.464e+00, 9.553e-01, 7.854e-01>'\n",
    "    >>> format(Vector([0, 0, 0]), '0.5fh')\n",
    "    '<0.00000, 0.00000, 0.00000>'\n",
    "    >>> format(Vector([-1,-1,-1,-1]), 'h')  # doctest:+ELLIPSIS\n",
    "    '<2.0, 2.09439..., 2.18627..., 3.92699...>'\n",
    "    >>> format(Vector([2, 2, 2, 2]), '.3eh')\n",
    "    '<4.000e+00, 1.047e+00, 9.553e-01, 7.854e-01>'\n",
    "    >>> format(Vector([0, 1, 0, 0]), '0.5fh')\n",
    "    '<1.00000, 1.57080, 0.00000, 0.00000>'\n",
    "\"\"\"\n",
    "from array import array\n",
    "import reprlib\n",
    "import math\n",
    "import numbers\n",
    "import functools\n",
    "import operator\n",
    "import itertools\n",
    "\n",
    "\n",
    "class Vector:\n",
    "    typecode = 'd'\n",
    "\n",
    "    def __init__(self, components):\n",
    "        self._components = array(self.typecode, components)\n",
    "\n",
    "    def __iter__(self):\n",
    "        return iter(self._components)\n",
    "\n",
    "    def __repr__(self):\n",
    "        components = reprlib.repr(self._components)\n",
    "        components = components[components.find('['):-1]\n",
    "        return 'Vector({})'.format(components)\n",
    "\n",
    "    def __str__(self):\n",
    "        return str(tuple(self))\n",
    "\n",
    "    def __bytes__(self):\n",
    "        return (bytes([ord(self.typecode)]) +\n",
    "                bytes(self._components))\n",
    "\n",
    "    def __eq__(self, other):\n",
    "        return (len(self) == len(other) and\n",
    "                all(a == b for a, b in zip(self, other)))\n",
    "\n",
    "    def __hash__(self):\n",
    "        hashes = (hash(x) for x in self)\n",
    "        return functools.reduce(operator.xor, hashes, 0)\n",
    "\n",
    "    def __abs__(self):\n",
    "        return math.sqrt(sum(x * x for x in self))\n",
    "\n",
    "    def __bool__(self):\n",
    "        return bool(abs(self))\n",
    "\n",
    "    def __len__(self):\n",
    "        return len(self._components)\n",
    "\n",
    "    def __getitem__(self, index):\n",
    "        cls = type(self)\n",
    "        if isinstance(index, slice):\n",
    "            return cls(self._components[index])\n",
    "        elif isinstance(index, numbers.Integral):\n",
    "            return self._components[index]\n",
    "        else:\n",
    "            msg = '{.__name__} indices must be integers'\n",
    "            raise TypeError(msg.format(cls))\n",
    "    shortcut_names = 'xyzt'\n",
    "\n",
    "    def __getattr__(self, name):\n",
    "        cls = type(self)\n",
    "        if len(name) == 1:\n",
    "            pos = cls.shortcut_names.find(name)\n",
    "            if 0 <= pos < len(self._components):\n",
    "                return self._components[pos]\n",
    "        msg = '{.__name__!r} object has no attribute {!r}'\n",
    "        raise AttributeError(msg.format(cls, name))\n",
    "\n",
    "    def angle(self, n):\n",
    "        r = math.sqrt(sum(x * x for x in self[n:]))\n",
    "        a = math.atan2(r, self[n-1])\n",
    "        if (n == len(self)-1) and (self[-1] < 0):\n",
    "            return math.pi * 2-a\n",
    "        else:\n",
    "            return a\n",
    "\n",
    "    def angles(self):\n",
    "        return (self.angle(n) for n in range(1, len(self)))\n",
    "\n",
    "    def __format__(self, fmt_spec=''):\n",
    "        if fmt_spec.endswith('h'):  # 超球面坐标\n",
    "            fmt_spec = fmt_spec[:-1]\n",
    "            coords = itertools.chain([abs(self)],\n",
    "                                     self.angles())\n",
    "            outer_fmt = '<{}>'\n",
    "        else:\n",
    "            coords = self\n",
    "            outer_fmt = '({})'\n",
    "        components = (format(c, fmt_spec) for c in coords)\n",
    "        return outer_fmt.format(', '.join(components))\n",
    "\n",
    "    @classmethod\n",
    "    def frombytes(cls, octets):\n",
    "        typecode = chr(octets[0])\n",
    "        memv = memoryview(octets[1:]).cast(typecode)\n",
    "        return cls(memv)"
   ]
  }
 ],
 "metadata": {
  "kernelspec": {
   "display_name": "base",
   "language": "python",
   "name": "python3"
  },
  "language_info": {
   "codemirror_mode": {
    "name": "ipython",
    "version": 3
   },
   "file_extension": ".py",
   "mimetype": "text/x-python",
   "name": "python",
   "nbconvert_exporter": "python",
   "pygments_lexer": "ipython3",
   "version": "3.10.9"
  }
 },
 "nbformat": 4,
 "nbformat_minor": 2
}
