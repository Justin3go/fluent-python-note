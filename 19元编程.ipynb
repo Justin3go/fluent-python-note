{
 "cells": [
  {
   "cell_type": "markdown",
   "metadata": {},
   "source": [
    "# 动态属性和特性"
   ]
  },
  {
   "cell_type": "markdown",
   "metadata": {},
   "source": [
    "关于元编程的一些解释：\n",
    "\n",
    "Python中的元编程是指在运行时创建或自定义代码的技术。这涉及到使用Python的反射特性和动态性质来编写程序，这些程序可以操纵、生成或修改自身或其他程序的代码。元编程常用于框架开发、代码生成、动态修改类或函数等场景。\n",
    "\n",
    "Python中实现元编程的几种方式包括但不限于：\n",
    "\n",
    "- 使用装饰器`（Decorators）`：装饰器可以修改或增强函数、方法或类的行为，而不需要改变其代码。\n",
    "- 使用元类`（Metaclasses）`：元类是创建类的“类”。通过自定义元类，可以控制类的创建过程，从而实现复杂的行为。\n",
    "- 使用`exec()`和`eval()`函数：这些函数可以执行存储在字符串或编译对象中的Python代码。\n",
    "- 使用`getattr()`, `setattr()`, `delattr()`函数：这些函数可以用来动态地操作对象的属性。"
   ]
  },
  {
   "cell_type": "markdown",
   "metadata": {},
   "source": [
    "得多写一些python代码再来看这部分章节"
   ]
  },
  {
   "cell_type": "markdown",
   "metadata": {},
   "source": [
    "## 动态特性或属性\n",
    "\n",
    "| 动态特性或属性 | 描述 | 示例 |\n",
    "| --------------- | ---- | ---- |\n",
    "| **动态创建类** | 使用`type`函数或自定义元类来动态创建类。 | `MyClass = type('MyClass', (BaseClass,), {'attr': value})` |\n",
    "| **装饰器** | 函数装饰器和类装饰器用于在不修改原有代码的情况下增加额外功能。 | `@decorator`<br>`def function(): pass` |\n",
    "| **元类** | 类的类，可以控制类的创建过程。 | `class Meta(type): pass`<br>`class MyClass(metaclass=Meta): pass` |\n",
    "| **exec() 和 eval()** | 执行和评估字符串形式的Python代码。 | `exec('print(\"Hello World\")')` |\n",
    "| **getattr(), setattr(), delattr()** | 动态地获取、设置或删除对象的属性。 | `getattr(obj, 'attr')` |\n",
    "| **__getattr__, __setattr__, __delattr__** | 特殊方法，允许自定义属性访问、设置或删除的行为。 | `def __getattr__(self, name): pass` |\n",
    "| **globals() 和 locals()** | 分别返回当前全局和局部符号表的字典，允许动态访问变量。 | `globals()['variable_name'] = value` |\n",
    "| **动态导入** | 使用`importlib`模块动态导入模块。 | `importlib.import_module('module_name')` |\n",
    "| **__import__()** | 内置函数，用于动态导入模块。 | `__import__('module_name')` |\n",
    "| **__new__()** | 特殊方法，用于在类实例化时创建新实例。它是在__init__()之前调用的。 | `class MyClass(object):`<br>&nbsp;&nbsp;`def __new__(cls, *args, **kwargs):`<br>&nbsp;&nbsp;&nbsp;&nbsp;`instance = super(MyClass, cls).__new__(cls)`<br>&nbsp;&nbsp;&nbsp;&nbsp;`# 初始化操作`<br>&nbsp;&nbsp;&nbsp;&nbsp;`return instance` |\n"
   ]
  },
  {
   "cell_type": "markdown",
   "metadata": {},
   "source": [
    "## 属性描述符\n",
    "\n",
    "属性描述符是实现了特定协议的类，该协议包括`__get__()`, `__set__()`和`__delete__()`方法中的至少一个。描述符使你能够创建一个对象，当它被附加到另一个对象的属性时，可以控制对该属性的访问、修改或删除操作。描述符是实现属性和方法装饰器背后的机制。\n",
    "\n",
    "描述符的类型\n",
    "\n",
    "| 类型 | 描述 | 必须实现的方法 |\n",
    "| ---- | ---- | -------------- |\n",
    "| **数据描述符** | 同时定义了`__get__()`和`__set__()`方法的描述符。数据描述符具有比实例字典更高的优先级。 | `__get__(), __set__()` |\n",
    "| **非数据描述符** | 只定义了`__get__()`方法的描述符。如果一个实例的字典中有与非数据描述符同名的项，则该项的值会覆盖非数据描述符的值。 | `__get__()` |\n",
    "\n",
    "描述符的方法\n",
    "\n",
    "- **`__get__(self, instance, owner)`**：用于访问属性。它返回属性的值或者在访问时触发的任何动作。\n",
    "- **`__set__(self, instance, value)`**：将在属性分配操作中调用，允许你定义设置属性值时的行为。\n",
    "- **`__delete__(self, instance)`**：允许你定义删除属性时的行为。\n",
    "\n",
    "示例\n",
    "\n",
    "下面是一个简单的数据描述符示例，它用于类型检查：\n",
    "\n",
    "```python\n",
    "class TypedProperty:\n",
    "    def __init__(self, name, expected_type):\n",
    "        self.name = name\n",
    "        self.expected_type = expected_type\n",
    "    \n",
    "    def __get__(self, instance, owner):\n",
    "        return instance.__dict__[self.name]\n",
    "    \n",
    "    def __set__(self, instance, value):\n",
    "        if not isinstance(value, self.expected_type):\n",
    "            raise TypeError(f\"Value must be of type {self.expected_type}\")\n",
    "        instance.__dict__[self.name] = value\n",
    "\n",
    "class MyClass:\n",
    "    name = TypedProperty(\"name\", str)\n",
    "    age = TypedProperty(\"age\", int)\n",
    "\n",
    "obj = MyClass()\n",
    "obj.name = \"John\"  # 正确\n",
    "obj.age = 30  # 正确\n",
    "# obj.age = \"thirty\"  # 将抛出TypeError\n",
    "```\n",
    "\n",
    "在这个例子中，`TypedProperty`是一个数据描述符，因为它同时定义了`__get__()`和`__set__()`方法。它被用来确保`MyClass`的`name`属性是字符串类型，`age`属性是整数类型。"
   ]
  }
 ],
 "metadata": {
  "kernelspec": {
   "display_name": "base",
   "language": "python",
   "name": "python3"
  },
  "language_info": {
   "name": "python",
   "version": "3.10.9"
  }
 },
 "nbformat": 4,
 "nbformat_minor": 2
}
